{
 "cells": [
  {
   "cell_type": "markdown",
   "metadata": {
    "id": "7BjqPEdZTpTG"
   },
   "source": [
    "<img src=\"http://wandb.me/logo-im-png\" width=\"400\" alt=\"Weights & Biases\" />\n",
    "<!--- @wandbcode{course-cicd} -->"
   ]
  },
  {
   "cell_type": "markdown",
   "metadata": {
    "id": "view-in-github"
   },
   "source": [
    "<a href=\"https://colab.research.google.com/github/hamelsmu/wandb-cicd/blob/main/intro/create_runs.ipynb\" target=\"_parent\"><img src=\"https://colab.research.google.com/assets/colab-badge.svg\" alt=\"Open In Colab\"/></a>"
   ]
  },
  {
   "cell_type": "markdown",
   "metadata": {
    "id": "H9kPXnlJTpTG"
   },
   "source": [
    "## CI/CD For Machine Learning Course\n",
    "\n",
    "[Course website](https://www.wandb.courses/courses/ci-cd-for-machine-learning/)\n",
    "\n",
    "This notebook creates synthetic runs so you can explore the W&B user interface.\n",
    "\n",
    "After you create runs, please login to the W&B user interface and explore it a bit.  This will give you important context for the course."
   ]
  },
  {
   "cell_type": "markdown",
   "metadata": {
    "id": "Qb0Yw5PMTpTI"
   },
   "source": [
    "## Setup\n",
    "\n",
    "First, let's install `wandb`:"
   ]
  },
  {
   "cell_type": "code",
   "execution_count": 1,
   "metadata": {
    "id": "MWJ_tgzVTpTH",
    "pycharm": {
     "is_executing": true
    }
   },
   "outputs": [],
   "source": [
    "#!pip install wandb"
   ]
  },
  {
   "cell_type": "code",
   "execution_count": 2,
   "metadata": {
    "collapsed": false,
    "jupyter": {
     "outputs_hidden": false
    },
    "pycharm": {
     "is_executing": true
    }
   },
   "outputs": [
    {
     "name": "stdout",
     "output_type": "stream",
     "text": [
      "jelradi\n"
     ]
    }
   ],
   "source": [
    "print(\"jelradi\")"
   ]
  },
  {
   "cell_type": "code",
   "execution_count": 3,
   "metadata": {
    "id": "4Q-GLs7-TpTI"
   },
   "outputs": [
    {
     "name": "stderr",
     "output_type": "stream",
     "text": [
      "\u001b[34m\u001b[1mwandb\u001b[0m: Logging into wandb.ai. (Learn how to deploy a W&B server locally: https://wandb.me/wandb-server)\n",
      "\u001b[34m\u001b[1mwandb\u001b[0m: You can find your API key in your browser here: https://wandb.ai/authorize\n",
      "\u001b[34m\u001b[1mwandb\u001b[0m: Paste an API key from your profile and hit enter, or press ctrl+c to quit:"
     ]
    },
    {
     "name": "stdin",
     "output_type": "stream",
     "text": [
      "  ········\n"
     ]
    },
    {
     "name": "stderr",
     "output_type": "stream",
     "text": [
      "\u001b[34m\u001b[1mwandb\u001b[0m: Appending key for api.wandb.ai to your netrc file: C:\\Users\\khabek/.netrc\n",
      "\u001b[34m\u001b[1mwandb\u001b[0m: Currently logged in as: \u001b[33mkhubak\u001b[0m. Use \u001b[1m`wandb login --relogin`\u001b[0m to force relogin\n"
     ]
    },
    {
     "data": {
      "text/html": [
       "Tracking run with wandb version 0.14.1"
      ],
      "text/plain": [
       "<IPython.core.display.HTML object>"
      ]
     },
     "metadata": {},
     "output_type": "display_data"
    },
    {
     "data": {
      "text/html": [
       "Run data is saved locally in <code>C:\\Users\\khabek\\Documents\\GitHub\\WB-CI-CD-for-Machine-Learning--GitOps-\\wandb\\run-20230406_100100-xqmyuuod</code>"
      ],
      "text/plain": [
       "<IPython.core.display.HTML object>"
      ]
     },
     "metadata": {},
     "output_type": "display_data"
    },
    {
     "data": {
      "text/html": [
       "Syncing run <strong><a href='https://wandb.ai/khubak/cicd-quickstart/runs/xqmyuuod' target=\"_blank\">adventurous-aardvark-1</a></strong> to <a href='https://wandb.ai/khubak/cicd-quickstart' target=\"_blank\">Weights & Biases</a> (<a href='https://wandb.me/run' target=\"_blank\">docs</a>)<br/>"
      ],
      "text/plain": [
       "<IPython.core.display.HTML object>"
      ]
     },
     "metadata": {},
     "output_type": "display_data"
    },
    {
     "data": {
      "text/html": [
       " View project at <a href='https://wandb.ai/khubak/cicd-quickstart' target=\"_blank\">https://wandb.ai/khubak/cicd-quickstart</a>"
      ],
      "text/plain": [
       "<IPython.core.display.HTML object>"
      ]
     },
     "metadata": {},
     "output_type": "display_data"
    },
    {
     "data": {
      "text/html": [
       " View run at <a href='https://wandb.ai/khubak/cicd-quickstart/runs/xqmyuuod' target=\"_blank\">https://wandb.ai/khubak/cicd-quickstart/runs/xqmyuuod</a>"
      ],
      "text/plain": [
       "<IPython.core.display.HTML object>"
      ]
     },
     "metadata": {},
     "output_type": "display_data"
    },
    {
     "data": {
      "text/html": [
       "Waiting for W&B process to finish... <strong style=\"color:green\">(success).</strong>"
      ],
      "text/plain": [
       "<IPython.core.display.HTML object>"
      ]
     },
     "metadata": {},
     "output_type": "display_data"
    },
    {
     "data": {
      "application/vnd.jupyter.widget-view+json": {
       "model_id": "5b30e639532648cd8bb32628e3ed33d6",
       "version_major": 2,
       "version_minor": 0
      },
      "text/plain": [
       "VBox(children=(Label(value='0.001 MB of 0.001 MB uploaded (0.000 MB deduped)\\r'), FloatProgress(value=1.0, max…"
      ]
     },
     "metadata": {},
     "output_type": "display_data"
    },
    {
     "data": {
      "text/html": [
       "<style>\n",
       "    table.wandb td:nth-child(1) { padding: 0 10px; text-align: left ; width: auto;} td:nth-child(2) {text-align: left ; width: 100%}\n",
       "    .wandb-row { display: flex; flex-direction: row; flex-wrap: wrap; justify-content: flex-start; width: 100% }\n",
       "    .wandb-col { display: flex; flex-direction: column; flex-basis: 100%; flex: 1; padding: 10px; }\n",
       "    </style>\n",
       "<div class=\"wandb-row\"><div class=\"wandb-col\"><h3>Run history:</h3><br/><table class=\"wandb\"><tr><td>acc</td><td>▁▃▄▄▅▅▅▅▅▆▆▇▆▆▇▇▇▆▇▇▇▇▇▇▇▇▇▇▇█▇█▇▇▇███▇█</td></tr><tr><td>loss</td><td>█▅▅▅▄▄▄▄▄▃▃▃▂▃▃▃▂▂▂▂▂▂▂▂▂▂▂▂▂▂▁▁▁▁▂▂▁▂▂▁</td></tr><tr><td>val_acc</td><td>▁▂▄▄▄▅▆▅▆▆▆▆▆▆▆▆▇▇▇▇▇▆▇▇█▆▇▇▇█▇▇███▇▇▇▇▇</td></tr><tr><td>val_loss</td><td>█▇▆▅▅▅▄▅▃▄▄▄▃▃▃▃▂▂▂▃▃▂▃▃▃▂▁▂▂▂▃▂▂▁▂▂▁▂▂▁</td></tr></table><br/></div><div class=\"wandb-col\"><h3>Run summary:</h3><br/><table class=\"wandb\"><tr><td>acc</td><td>3.16492</td></tr><tr><td>loss</td><td>-0.01305</td></tr><tr><td>val_acc</td><td>2.91426</td></tr><tr><td>val_loss</td><td>0.02579</td></tr></table><br/></div></div>"
      ],
      "text/plain": [
       "<IPython.core.display.HTML object>"
      ]
     },
     "metadata": {},
     "output_type": "display_data"
    },
    {
     "data": {
      "text/html": [
       " View run <strong style=\"color:#cdcd00\">adventurous-aardvark-1</strong> at: <a href='https://wandb.ai/khubak/cicd-quickstart/runs/xqmyuuod' target=\"_blank\">https://wandb.ai/khubak/cicd-quickstart/runs/xqmyuuod</a><br/>Synced 5 W&B file(s), 0 media file(s), 0 artifact file(s) and 0 other file(s)"
      ],
      "text/plain": [
       "<IPython.core.display.HTML object>"
      ]
     },
     "metadata": {},
     "output_type": "display_data"
    },
    {
     "data": {
      "text/html": [
       "Find logs at: <code>.\\wandb\\run-20230406_100100-xqmyuuod\\logs</code>"
      ],
      "text/plain": [
       "<IPython.core.display.HTML object>"
      ]
     },
     "metadata": {},
     "output_type": "display_data"
    },
    {
     "data": {
      "application/vnd.jupyter.widget-view+json": {
       "model_id": "08c337018450424bb03e288b9da59c69",
       "version_major": 2,
       "version_minor": 0
      },
      "text/plain": [
       "VBox(children=(Label(value='Waiting for wandb.init()...\\r'), FloatProgress(value=0.016666666666666666, max=1.0…"
      ]
     },
     "metadata": {},
     "output_type": "display_data"
    },
    {
     "data": {
      "text/html": [
       "Tracking run with wandb version 0.14.1"
      ],
      "text/plain": [
       "<IPython.core.display.HTML object>"
      ]
     },
     "metadata": {},
     "output_type": "display_data"
    },
    {
     "data": {
      "text/html": [
       "Run data is saved locally in <code>C:\\Users\\khabek\\Documents\\GitHub\\WB-CI-CD-for-Machine-Learning--GitOps-\\wandb\\run-20230406_100135-w42e8u4k</code>"
      ],
      "text/plain": [
       "<IPython.core.display.HTML object>"
      ]
     },
     "metadata": {},
     "output_type": "display_data"
    },
    {
     "data": {
      "text/html": [
       "Syncing run <strong><a href='https://wandb.ai/khubak/cicd-quickstart/runs/w42e8u4k' target=\"_blank\">bountiful-badger-2</a></strong> to <a href='https://wandb.ai/khubak/cicd-quickstart' target=\"_blank\">Weights & Biases</a> (<a href='https://wandb.me/run' target=\"_blank\">docs</a>)<br/>"
      ],
      "text/plain": [
       "<IPython.core.display.HTML object>"
      ]
     },
     "metadata": {},
     "output_type": "display_data"
    },
    {
     "data": {
      "text/html": [
       " View project at <a href='https://wandb.ai/khubak/cicd-quickstart' target=\"_blank\">https://wandb.ai/khubak/cicd-quickstart</a>"
      ],
      "text/plain": [
       "<IPython.core.display.HTML object>"
      ]
     },
     "metadata": {},
     "output_type": "display_data"
    },
    {
     "data": {
      "text/html": [
       " View run at <a href='https://wandb.ai/khubak/cicd-quickstart/runs/w42e8u4k' target=\"_blank\">https://wandb.ai/khubak/cicd-quickstart/runs/w42e8u4k</a>"
      ],
      "text/plain": [
       "<IPython.core.display.HTML object>"
      ]
     },
     "metadata": {},
     "output_type": "display_data"
    },
    {
     "data": {
      "text/html": [
       "Waiting for W&B process to finish... <strong style=\"color:green\">(success).</strong>"
      ],
      "text/plain": [
       "<IPython.core.display.HTML object>"
      ]
     },
     "metadata": {},
     "output_type": "display_data"
    },
    {
     "data": {
      "application/vnd.jupyter.widget-view+json": {
       "model_id": "21fd8c93bf994661af4a055154147cb6",
       "version_major": 2,
       "version_minor": 0
      },
      "text/plain": [
       "VBox(children=(Label(value='0.001 MB of 0.001 MB uploaded (0.000 MB deduped)\\r'), FloatProgress(value=1.0, max…"
      ]
     },
     "metadata": {},
     "output_type": "display_data"
    },
    {
     "data": {
      "text/html": [
       "<style>\n",
       "    table.wandb td:nth-child(1) { padding: 0 10px; text-align: left ; width: auto;} td:nth-child(2) {text-align: left ; width: 100%}\n",
       "    .wandb-row { display: flex; flex-direction: row; flex-wrap: wrap; justify-content: flex-start; width: 100% }\n",
       "    .wandb-col { display: flex; flex-direction: column; flex-basis: 100%; flex: 1; padding: 10px; }\n",
       "    </style>\n",
       "<div class=\"wandb-row\"><div class=\"wandb-col\"><h3>Run history:</h3><br/><table class=\"wandb\"><tr><td>acc</td><td>▁▃▃▄▄▄▅▅▆▆▅▅▆▆▆▆▇▆▇▇▇▇▆▆▆█▇▆██▇▇▇▇▇██▇▇█</td></tr><tr><td>loss</td><td>█▆▆▅▅▅▄▄▃▄▃▄▄▃▃▃▃▂▂▂▂▂▃▂▁▃▂▁▂▂▂▂▂▂▂▁▁▁▂▁</td></tr><tr><td>val_acc</td><td>▁▄▄▅▄▅▅▆▆▆▆▆▆▆▇▇▇▆▇▇▇▇▇▇▇▇▇▇▇▇▇▇██▇███▇█</td></tr><tr><td>val_loss</td><td>█▆▆▅▅▄▄▄▃▃▄▃▂▃▂▃▂▂▂▃▃▂▂▃▂▂▁▂▂▂▁▂▂▂▂▂▁▂▁▁</td></tr></table><br/></div><div class=\"wandb-col\"><h3>Run summary:</h3><br/><table class=\"wandb\"><tr><td>acc</td><td>3.00735</td></tr><tr><td>loss</td><td>0.01551</td></tr><tr><td>val_acc</td><td>2.64738</td></tr><tr><td>val_loss</td><td>0.07659</td></tr></table><br/></div></div>"
      ],
      "text/plain": [
       "<IPython.core.display.HTML object>"
      ]
     },
     "metadata": {},
     "output_type": "display_data"
    },
    {
     "data": {
      "text/html": [
       " View run <strong style=\"color:#cdcd00\">bountiful-badger-2</strong> at: <a href='https://wandb.ai/khubak/cicd-quickstart/runs/w42e8u4k' target=\"_blank\">https://wandb.ai/khubak/cicd-quickstart/runs/w42e8u4k</a><br/>Synced 5 W&B file(s), 0 media file(s), 0 artifact file(s) and 0 other file(s)"
      ],
      "text/plain": [
       "<IPython.core.display.HTML object>"
      ]
     },
     "metadata": {},
     "output_type": "display_data"
    },
    {
     "data": {
      "text/html": [
       "Find logs at: <code>.\\wandb\\run-20230406_100135-w42e8u4k\\logs</code>"
      ],
      "text/plain": [
       "<IPython.core.display.HTML object>"
      ]
     },
     "metadata": {},
     "output_type": "display_data"
    },
    {
     "data": {
      "application/vnd.jupyter.widget-view+json": {
       "model_id": "bd17dbaba84e48d5b26b183544361e62",
       "version_major": 2,
       "version_minor": 0
      },
      "text/plain": [
       "VBox(children=(Label(value='Waiting for wandb.init()...\\r'), FloatProgress(value=0.016916666666656966, max=1.0…"
      ]
     },
     "metadata": {},
     "output_type": "display_data"
    },
    {
     "data": {
      "text/html": [
       "Tracking run with wandb version 0.14.1"
      ],
      "text/plain": [
       "<IPython.core.display.HTML object>"
      ]
     },
     "metadata": {},
     "output_type": "display_data"
    },
    {
     "data": {
      "text/html": [
       "Run data is saved locally in <code>C:\\Users\\khabek\\Documents\\GitHub\\WB-CI-CD-for-Machine-Learning--GitOps-\\wandb\\run-20230406_100207-e2gjnxhm</code>"
      ],
      "text/plain": [
       "<IPython.core.display.HTML object>"
      ]
     },
     "metadata": {},
     "output_type": "display_data"
    },
    {
     "data": {
      "text/html": [
       "Syncing run <strong><a href='https://wandb.ai/khubak/cicd-quickstart/runs/e2gjnxhm' target=\"_blank\">clairvoyant-chipmunk-3</a></strong> to <a href='https://wandb.ai/khubak/cicd-quickstart' target=\"_blank\">Weights & Biases</a> (<a href='https://wandb.me/run' target=\"_blank\">docs</a>)<br/>"
      ],
      "text/plain": [
       "<IPython.core.display.HTML object>"
      ]
     },
     "metadata": {},
     "output_type": "display_data"
    },
    {
     "data": {
      "text/html": [
       " View project at <a href='https://wandb.ai/khubak/cicd-quickstart' target=\"_blank\">https://wandb.ai/khubak/cicd-quickstart</a>"
      ],
      "text/plain": [
       "<IPython.core.display.HTML object>"
      ]
     },
     "metadata": {},
     "output_type": "display_data"
    },
    {
     "data": {
      "text/html": [
       " View run at <a href='https://wandb.ai/khubak/cicd-quickstart/runs/e2gjnxhm' target=\"_blank\">https://wandb.ai/khubak/cicd-quickstart/runs/e2gjnxhm</a>"
      ],
      "text/plain": [
       "<IPython.core.display.HTML object>"
      ]
     },
     "metadata": {},
     "output_type": "display_data"
    },
    {
     "data": {
      "text/html": [
       "Waiting for W&B process to finish... <strong style=\"color:green\">(success).</strong>"
      ],
      "text/plain": [
       "<IPython.core.display.HTML object>"
      ]
     },
     "metadata": {},
     "output_type": "display_data"
    },
    {
     "data": {
      "application/vnd.jupyter.widget-view+json": {
       "model_id": "58b537c4b9cc488295db353fb12bdb2b",
       "version_major": 2,
       "version_minor": 0
      },
      "text/plain": [
       "VBox(children=(Label(value='0.001 MB of 0.001 MB uploaded (0.000 MB deduped)\\r'), FloatProgress(value=1.0, max…"
      ]
     },
     "metadata": {},
     "output_type": "display_data"
    },
    {
     "data": {
      "text/html": [
       "<style>\n",
       "    table.wandb td:nth-child(1) { padding: 0 10px; text-align: left ; width: auto;} td:nth-child(2) {text-align: left ; width: 100%}\n",
       "    .wandb-row { display: flex; flex-direction: row; flex-wrap: wrap; justify-content: flex-start; width: 100% }\n",
       "    .wandb-col { display: flex; flex-direction: column; flex-basis: 100%; flex: 1; padding: 10px; }\n",
       "    </style>\n",
       "<div class=\"wandb-row\"><div class=\"wandb-col\"><h3>Run history:</h3><br/><table class=\"wandb\"><tr><td>acc</td><td>▁▃▄▅▄▅▆▆▅▅▆▆▇▇▆▇▆▆▇▇▆▇█▇▇▇▇██▇▇▇███▇█▇█▇</td></tr><tr><td>loss</td><td>█▆▆▄▅▄▄▄▃▄▄▄▃▃▃▃▂▂▂▂▃▂▂▂▂▃▂▂▃▂▂▂▂▂▁▂▂▂▂▂</td></tr><tr><td>val_acc</td><td>▁▃▄▃▄▄▅▅▅▅▆▆▆▆▅▅▆▇▆▆▇▆▆▇▆▇▇█▇▇▆▇█▇█▇████</td></tr><tr><td>val_loss</td><td>█▇▆▅▄▅▄▃▃▄▃▃▃▃▂▃▃▃▂▂▃▂▃▁▂▃▂▂▁▁▂▂▂▁▂▂▁▂▂▂</td></tr></table><br/></div><div class=\"wandb-col\"><h3>Run summary:</h3><br/><table class=\"wandb\"><tr><td>acc</td><td>4.04928</td></tr><tr><td>loss</td><td>0.15566</td></tr><tr><td>val_acc</td><td>3.35232</td></tr><tr><td>val_loss</td><td>0.09984</td></tr></table><br/></div></div>"
      ],
      "text/plain": [
       "<IPython.core.display.HTML object>"
      ]
     },
     "metadata": {},
     "output_type": "display_data"
    },
    {
     "data": {
      "text/html": [
       " View run <strong style=\"color:#cdcd00\">clairvoyant-chipmunk-3</strong> at: <a href='https://wandb.ai/khubak/cicd-quickstart/runs/e2gjnxhm' target=\"_blank\">https://wandb.ai/khubak/cicd-quickstart/runs/e2gjnxhm</a><br/>Synced 5 W&B file(s), 0 media file(s), 0 artifact file(s) and 0 other file(s)"
      ],
      "text/plain": [
       "<IPython.core.display.HTML object>"
      ]
     },
     "metadata": {},
     "output_type": "display_data"
    },
    {
     "data": {
      "text/html": [
       "Find logs at: <code>.\\wandb\\run-20230406_100207-e2gjnxhm\\logs</code>"
      ],
      "text/plain": [
       "<IPython.core.display.HTML object>"
      ]
     },
     "metadata": {},
     "output_type": "display_data"
    },
    {
     "data": {
      "application/vnd.jupyter.widget-view+json": {
       "model_id": "f26452ac521046ee8786ea1b459c5f75",
       "version_major": 2,
       "version_minor": 0
      },
      "text/plain": [
       "VBox(children=(Label(value='Waiting for wandb.init()...\\r'), FloatProgress(value=0.01693333333338766, max=1.0)…"
      ]
     },
     "metadata": {},
     "output_type": "display_data"
    },
    {
     "data": {
      "text/html": [
       "Tracking run with wandb version 0.14.1"
      ],
      "text/plain": [
       "<IPython.core.display.HTML object>"
      ]
     },
     "metadata": {},
     "output_type": "display_data"
    },
    {
     "data": {
      "text/html": [
       "Run data is saved locally in <code>C:\\Users\\khabek\\Documents\\GitHub\\WB-CI-CD-for-Machine-Learning--GitOps-\\wandb\\run-20230406_100240-7kj1eaul</code>"
      ],
      "text/plain": [
       "<IPython.core.display.HTML object>"
      ]
     },
     "metadata": {},
     "output_type": "display_data"
    },
    {
     "data": {
      "text/html": [
       "Syncing run <strong><a href='https://wandb.ai/khubak/cicd-quickstart/runs/7kj1eaul' target=\"_blank\">dastardly-duck-4</a></strong> to <a href='https://wandb.ai/khubak/cicd-quickstart' target=\"_blank\">Weights & Biases</a> (<a href='https://wandb.me/run' target=\"_blank\">docs</a>)<br/>"
      ],
      "text/plain": [
       "<IPython.core.display.HTML object>"
      ]
     },
     "metadata": {},
     "output_type": "display_data"
    },
    {
     "data": {
      "text/html": [
       " View project at <a href='https://wandb.ai/khubak/cicd-quickstart' target=\"_blank\">https://wandb.ai/khubak/cicd-quickstart</a>"
      ],
      "text/plain": [
       "<IPython.core.display.HTML object>"
      ]
     },
     "metadata": {},
     "output_type": "display_data"
    },
    {
     "data": {
      "text/html": [
       " View run at <a href='https://wandb.ai/khubak/cicd-quickstart/runs/7kj1eaul' target=\"_blank\">https://wandb.ai/khubak/cicd-quickstart/runs/7kj1eaul</a>"
      ],
      "text/plain": [
       "<IPython.core.display.HTML object>"
      ]
     },
     "metadata": {},
     "output_type": "display_data"
    },
    {
     "data": {
      "text/html": [
       "Waiting for W&B process to finish... <strong style=\"color:green\">(success).</strong>"
      ],
      "text/plain": [
       "<IPython.core.display.HTML object>"
      ]
     },
     "metadata": {},
     "output_type": "display_data"
    },
    {
     "data": {
      "application/vnd.jupyter.widget-view+json": {
       "model_id": "a810c9625af54e748838111ff3bbd40d",
       "version_major": 2,
       "version_minor": 0
      },
      "text/plain": [
       "VBox(children=(Label(value='0.001 MB of 0.001 MB uploaded (0.000 MB deduped)\\r'), FloatProgress(value=1.0, max…"
      ]
     },
     "metadata": {},
     "output_type": "display_data"
    },
    {
     "data": {
      "text/html": [
       "<style>\n",
       "    table.wandb td:nth-child(1) { padding: 0 10px; text-align: left ; width: auto;} td:nth-child(2) {text-align: left ; width: 100%}\n",
       "    .wandb-row { display: flex; flex-direction: row; flex-wrap: wrap; justify-content: flex-start; width: 100% }\n",
       "    .wandb-col { display: flex; flex-direction: column; flex-basis: 100%; flex: 1; padding: 10px; }\n",
       "    </style>\n",
       "<div class=\"wandb-row\"><div class=\"wandb-col\"><h3>Run history:</h3><br/><table class=\"wandb\"><tr><td>acc</td><td>▁▄▄▄▅▄▅▆▆▆▅▇▆▆▆▆▇▇▇▇▆██▇▇█▇▇▇▇▇█████▇███</td></tr><tr><td>loss</td><td>█▆▆▄▅▅▄▄▃▃▄▃▃▃▃▃▂▃▂▃▂▃▂▂▂▂▃▂▁▁▂▂▁▂▁▁▂▂▁▁</td></tr><tr><td>val_acc</td><td>▁▃▄▅▄▅▆▅▅▅▅▆▇▅▇▆▇▇▆▆▇▇▆▇▇▇▇▇▇██▇██▇▇▇▇██</td></tr><tr><td>val_loss</td><td>█▆▅▅▄▄▄▄▄▃▃▄▃▃▃▃▃▂▂▂▃▂▂▂▂▁▂▁▁▁▂▁▂▂▂▂▂▂▁▁</td></tr></table><br/></div><div class=\"wandb-col\"><h3>Run summary:</h3><br/><table class=\"wandb\"><tr><td>acc</td><td>3.56904</td></tr><tr><td>loss</td><td>0.14986</td></tr><tr><td>val_acc</td><td>3.29859</td></tr><tr><td>val_loss</td><td>0.12782</td></tr></table><br/></div></div>"
      ],
      "text/plain": [
       "<IPython.core.display.HTML object>"
      ]
     },
     "metadata": {},
     "output_type": "display_data"
    },
    {
     "data": {
      "text/html": [
       " View run <strong style=\"color:#cdcd00\">dastardly-duck-4</strong> at: <a href='https://wandb.ai/khubak/cicd-quickstart/runs/7kj1eaul' target=\"_blank\">https://wandb.ai/khubak/cicd-quickstart/runs/7kj1eaul</a><br/>Synced 5 W&B file(s), 0 media file(s), 0 artifact file(s) and 0 other file(s)"
      ],
      "text/plain": [
       "<IPython.core.display.HTML object>"
      ]
     },
     "metadata": {},
     "output_type": "display_data"
    },
    {
     "data": {
      "text/html": [
       "Find logs at: <code>.\\wandb\\run-20230406_100240-7kj1eaul\\logs</code>"
      ],
      "text/plain": [
       "<IPython.core.display.HTML object>"
      ]
     },
     "metadata": {},
     "output_type": "display_data"
    },
    {
     "data": {
      "application/vnd.jupyter.widget-view+json": {
       "model_id": "1060c59cc38645b2aadacef30c6a56a2",
       "version_major": 2,
       "version_minor": 0
      },
      "text/plain": [
       "VBox(children=(Label(value='Waiting for wandb.init()...\\r'), FloatProgress(value=0.01693333333338766, max=1.0)…"
      ]
     },
     "metadata": {},
     "output_type": "display_data"
    },
    {
     "data": {
      "text/html": [
       "Tracking run with wandb version 0.14.1"
      ],
      "text/plain": [
       "<IPython.core.display.HTML object>"
      ]
     },
     "metadata": {},
     "output_type": "display_data"
    },
    {
     "data": {
      "text/html": [
       "Run data is saved locally in <code>C:\\Users\\khabek\\Documents\\GitHub\\WB-CI-CD-for-Machine-Learning--GitOps-\\wandb\\run-20230406_100313-tbics83v</code>"
      ],
      "text/plain": [
       "<IPython.core.display.HTML object>"
      ]
     },
     "metadata": {},
     "output_type": "display_data"
    },
    {
     "data": {
      "text/html": [
       "Syncing run <strong><a href='https://wandb.ai/khubak/cicd-quickstart/runs/tbics83v' target=\"_blank\">eloquent-elephant-5</a></strong> to <a href='https://wandb.ai/khubak/cicd-quickstart' target=\"_blank\">Weights & Biases</a> (<a href='https://wandb.me/run' target=\"_blank\">docs</a>)<br/>"
      ],
      "text/plain": [
       "<IPython.core.display.HTML object>"
      ]
     },
     "metadata": {},
     "output_type": "display_data"
    },
    {
     "data": {
      "text/html": [
       " View project at <a href='https://wandb.ai/khubak/cicd-quickstart' target=\"_blank\">https://wandb.ai/khubak/cicd-quickstart</a>"
      ],
      "text/plain": [
       "<IPython.core.display.HTML object>"
      ]
     },
     "metadata": {},
     "output_type": "display_data"
    },
    {
     "data": {
      "text/html": [
       " View run at <a href='https://wandb.ai/khubak/cicd-quickstart/runs/tbics83v' target=\"_blank\">https://wandb.ai/khubak/cicd-quickstart/runs/tbics83v</a>"
      ],
      "text/plain": [
       "<IPython.core.display.HTML object>"
      ]
     },
     "metadata": {},
     "output_type": "display_data"
    },
    {
     "data": {
      "text/html": [
       "Waiting for W&B process to finish... <strong style=\"color:green\">(success).</strong>"
      ],
      "text/plain": [
       "<IPython.core.display.HTML object>"
      ]
     },
     "metadata": {},
     "output_type": "display_data"
    },
    {
     "data": {
      "text/html": [
       " View run <strong style=\"color:#cdcd00\">eloquent-elephant-5</strong> at: <a href='https://wandb.ai/khubak/cicd-quickstart/runs/tbics83v' target=\"_blank\">https://wandb.ai/khubak/cicd-quickstart/runs/tbics83v</a><br/>Synced 5 W&B file(s), 2 media file(s), 2 artifact file(s) and 0 other file(s)"
      ],
      "text/plain": [
       "<IPython.core.display.HTML object>"
      ]
     },
     "metadata": {},
     "output_type": "display_data"
    },
    {
     "data": {
      "text/html": [
       "Find logs at: <code>.\\wandb\\run-20230406_100313-tbics83v\\logs</code>"
      ],
      "text/plain": [
       "<IPython.core.display.HTML object>"
      ]
     },
     "metadata": {},
     "output_type": "display_data"
    },
    {
     "data": {
      "application/vnd.jupyter.widget-view+json": {
       "model_id": "861378014a1341fdb14003bfc89582af",
       "version_major": 2,
       "version_minor": 0
      },
      "text/plain": [
       "VBox(children=(Label(value='Waiting for wandb.init()...\\r'), FloatProgress(value=0.01693333333338766, max=1.0)…"
      ]
     },
     "metadata": {},
     "output_type": "display_data"
    },
    {
     "data": {
      "text/html": [
       "Tracking run with wandb version 0.14.1"
      ],
      "text/plain": [
       "<IPython.core.display.HTML object>"
      ]
     },
     "metadata": {},
     "output_type": "display_data"
    },
    {
     "data": {
      "text/html": [
       "Run data is saved locally in <code>C:\\Users\\khabek\\Documents\\GitHub\\WB-CI-CD-for-Machine-Learning--GitOps-\\wandb\\run-20230406_100354-rrpktkna</code>"
      ],
      "text/plain": [
       "<IPython.core.display.HTML object>"
      ]
     },
     "metadata": {},
     "output_type": "display_data"
    },
    {
     "data": {
      "text/html": [
       "Syncing run <strong><a href='https://wandb.ai/khubak/lineage-example/runs/rrpktkna' target=\"_blank\">captain-tribble-1</a></strong> to <a href='https://wandb.ai/khubak/lineage-example' target=\"_blank\">Weights & Biases</a> (<a href='https://wandb.me/run' target=\"_blank\">docs</a>)<br/>"
      ],
      "text/plain": [
       "<IPython.core.display.HTML object>"
      ]
     },
     "metadata": {},
     "output_type": "display_data"
    },
    {
     "data": {
      "text/html": [
       " View project at <a href='https://wandb.ai/khubak/lineage-example' target=\"_blank\">https://wandb.ai/khubak/lineage-example</a>"
      ],
      "text/plain": [
       "<IPython.core.display.HTML object>"
      ]
     },
     "metadata": {},
     "output_type": "display_data"
    },
    {
     "data": {
      "text/html": [
       " View run at <a href='https://wandb.ai/khubak/lineage-example/runs/rrpktkna' target=\"_blank\">https://wandb.ai/khubak/lineage-example/runs/rrpktkna</a>"
      ],
      "text/plain": [
       "<IPython.core.display.HTML object>"
      ]
     },
     "metadata": {},
     "output_type": "display_data"
    },
    {
     "data": {
      "text/html": [
       "Waiting for W&B process to finish... <strong style=\"color:green\">(success).</strong>"
      ],
      "text/plain": [
       "<IPython.core.display.HTML object>"
      ]
     },
     "metadata": {},
     "output_type": "display_data"
    },
    {
     "data": {
      "application/vnd.jupyter.widget-view+json": {
       "model_id": "5cdb5b0a584a45dc89be2446711edf9f",
       "version_major": 2,
       "version_minor": 0
      },
      "text/plain": [
       "VBox(children=(Label(value='1.140 MB of 1.147 MB uploaded (0.000 MB deduped)\\r'), FloatProgress(value=0.994008…"
      ]
     },
     "metadata": {},
     "output_type": "display_data"
    },
    {
     "data": {
      "text/html": [
       " View run <strong style=\"color:#cdcd00\">captain-tribble-1</strong> at: <a href='https://wandb.ai/khubak/lineage-example/runs/rrpktkna' target=\"_blank\">https://wandb.ai/khubak/lineage-example/runs/rrpktkna</a><br/>Synced 5 W&B file(s), 0 media file(s), 9 artifact file(s) and 0 other file(s)"
      ],
      "text/plain": [
       "<IPython.core.display.HTML object>"
      ]
     },
     "metadata": {},
     "output_type": "display_data"
    },
    {
     "data": {
      "text/html": [
       "Find logs at: <code>.\\wandb\\run-20230406_100354-rrpktkna\\logs</code>"
      ],
      "text/plain": [
       "<IPython.core.display.HTML object>"
      ]
     },
     "metadata": {},
     "output_type": "display_data"
    },
    {
     "data": {
      "application/vnd.jupyter.widget-view+json": {
       "model_id": "5a546dab242f4bc4a668534d4446cd3c",
       "version_major": 2,
       "version_minor": 0
      },
      "text/plain": [
       "VBox(children=(Label(value='Waiting for wandb.init()...\\r'), FloatProgress(value=0.016666666666666666, max=1.0…"
      ]
     },
     "metadata": {},
     "output_type": "display_data"
    },
    {
     "data": {
      "text/html": [
       "Tracking run with wandb version 0.14.1"
      ],
      "text/plain": [
       "<IPython.core.display.HTML object>"
      ]
     },
     "metadata": {},
     "output_type": "display_data"
    },
    {
     "data": {
      "text/html": [
       "Run data is saved locally in <code>C:\\Users\\khabek\\Documents\\GitHub\\WB-CI-CD-for-Machine-Learning--GitOps-\\wandb\\run-20230406_100452-erassjbd</code>"
      ],
      "text/plain": [
       "<IPython.core.display.HTML object>"
      ]
     },
     "metadata": {},
     "output_type": "display_data"
    },
    {
     "data": {
      "text/html": [
       "Syncing run <strong><a href='https://wandb.ai/khubak/lineage-example/runs/erassjbd' target=\"_blank\">bajoran-holosuite-2</a></strong> to <a href='https://wandb.ai/khubak/lineage-example' target=\"_blank\">Weights & Biases</a> (<a href='https://wandb.me/run' target=\"_blank\">docs</a>)<br/>"
      ],
      "text/plain": [
       "<IPython.core.display.HTML object>"
      ]
     },
     "metadata": {},
     "output_type": "display_data"
    },
    {
     "data": {
      "text/html": [
       " View project at <a href='https://wandb.ai/khubak/lineage-example' target=\"_blank\">https://wandb.ai/khubak/lineage-example</a>"
      ],
      "text/plain": [
       "<IPython.core.display.HTML object>"
      ]
     },
     "metadata": {},
     "output_type": "display_data"
    },
    {
     "data": {
      "text/html": [
       " View run at <a href='https://wandb.ai/khubak/lineage-example/runs/erassjbd' target=\"_blank\">https://wandb.ai/khubak/lineage-example/runs/erassjbd</a>"
      ],
      "text/plain": [
       "<IPython.core.display.HTML object>"
      ]
     },
     "metadata": {},
     "output_type": "display_data"
    },
    {
     "data": {
      "text/html": [
       "Waiting for W&B process to finish... <strong style=\"color:green\">(success).</strong>"
      ],
      "text/plain": [
       "<IPython.core.display.HTML object>"
      ]
     },
     "metadata": {},
     "output_type": "display_data"
    },
    {
     "data": {
      "application/vnd.jupyter.widget-view+json": {
       "model_id": "481475036075458a89b3a62d02f4f7bf",
       "version_major": 2,
       "version_minor": 0
      },
      "text/plain": [
       "VBox(children=(Label(value='1.123 MB of 1.147 MB uploaded (0.000 MB deduped)\\r'), FloatProgress(value=0.978800…"
      ]
     },
     "metadata": {},
     "output_type": "display_data"
    },
    {
     "data": {
      "text/html": [
       " View run <strong style=\"color:#cdcd00\">bajoran-holosuite-2</strong> at: <a href='https://wandb.ai/khubak/lineage-example/runs/erassjbd' target=\"_blank\">https://wandb.ai/khubak/lineage-example/runs/erassjbd</a><br/>Synced 5 W&B file(s), 0 media file(s), 9 artifact file(s) and 0 other file(s)"
      ],
      "text/plain": [
       "<IPython.core.display.HTML object>"
      ]
     },
     "metadata": {},
     "output_type": "display_data"
    },
    {
     "data": {
      "text/html": [
       "Find logs at: <code>.\\wandb\\run-20230406_100452-erassjbd\\logs</code>"
      ],
      "text/plain": [
       "<IPython.core.display.HTML object>"
      ]
     },
     "metadata": {},
     "output_type": "display_data"
    },
    {
     "data": {
      "application/vnd.jupyter.widget-view+json": {
       "model_id": "7bdd4ab0e4d64dba9fb3dd8bfe53d6eb",
       "version_major": 2,
       "version_minor": 0
      },
      "text/plain": [
       "VBox(children=(Label(value='Waiting for wandb.init()...\\r'), FloatProgress(value=0.016666666666666666, max=1.0…"
      ]
     },
     "metadata": {},
     "output_type": "display_data"
    },
    {
     "data": {
      "text/html": [
       "Tracking run with wandb version 0.14.1"
      ],
      "text/plain": [
       "<IPython.core.display.HTML object>"
      ]
     },
     "metadata": {},
     "output_type": "display_data"
    },
    {
     "data": {
      "text/html": [
       "Run data is saved locally in <code>C:\\Users\\khabek\\Documents\\GitHub\\WB-CI-CD-for-Machine-Learning--GitOps-\\wandb\\run-20230406_100551-ujmnbt1m</code>"
      ],
      "text/plain": [
       "<IPython.core.display.HTML object>"
      ]
     },
     "metadata": {},
     "output_type": "display_data"
    },
    {
     "data": {
      "text/html": [
       "Syncing run <strong><a href='https://wandb.ai/khubak/lineage-example/runs/ujmnbt1m' target=\"_blank\">xindi-voyager-3</a></strong> to <a href='https://wandb.ai/khubak/lineage-example' target=\"_blank\">Weights & Biases</a> (<a href='https://wandb.me/run' target=\"_blank\">docs</a>)<br/>"
      ],
      "text/plain": [
       "<IPython.core.display.HTML object>"
      ]
     },
     "metadata": {},
     "output_type": "display_data"
    },
    {
     "data": {
      "text/html": [
       " View project at <a href='https://wandb.ai/khubak/lineage-example' target=\"_blank\">https://wandb.ai/khubak/lineage-example</a>"
      ],
      "text/plain": [
       "<IPython.core.display.HTML object>"
      ]
     },
     "metadata": {},
     "output_type": "display_data"
    },
    {
     "data": {
      "text/html": [
       " View run at <a href='https://wandb.ai/khubak/lineage-example/runs/ujmnbt1m' target=\"_blank\">https://wandb.ai/khubak/lineage-example/runs/ujmnbt1m</a>"
      ],
      "text/plain": [
       "<IPython.core.display.HTML object>"
      ]
     },
     "metadata": {},
     "output_type": "display_data"
    },
    {
     "data": {
      "text/html": [
       "Waiting for W&B process to finish... <strong style=\"color:green\">(success).</strong>"
      ],
      "text/plain": [
       "<IPython.core.display.HTML object>"
      ]
     },
     "metadata": {},
     "output_type": "display_data"
    },
    {
     "data": {
      "application/vnd.jupyter.widget-view+json": {
       "model_id": "a52c5a8529d840edb63e88bf1dc045e1",
       "version_major": 2,
       "version_minor": 0
      },
      "text/plain": [
       "VBox(children=(Label(value='1.123 MB of 1.147 MB uploaded (1.122 MB deduped)\\r'), FloatProgress(value=0.978778…"
      ]
     },
     "metadata": {},
     "output_type": "display_data"
    },
    {
     "data": {
      "text/html": [
       " View run <strong style=\"color:#cdcd00\">xindi-voyager-3</strong> at: <a href='https://wandb.ai/khubak/lineage-example/runs/ujmnbt1m' target=\"_blank\">https://wandb.ai/khubak/lineage-example/runs/ujmnbt1m</a><br/>Synced 5 W&B file(s), 0 media file(s), 9 artifact file(s) and 0 other file(s)"
      ],
      "text/plain": [
       "<IPython.core.display.HTML object>"
      ]
     },
     "metadata": {},
     "output_type": "display_data"
    },
    {
     "data": {
      "text/html": [
       "Find logs at: <code>.\\wandb\\run-20230406_100551-ujmnbt1m\\logs</code>"
      ],
      "text/plain": [
       "<IPython.core.display.HTML object>"
      ]
     },
     "metadata": {},
     "output_type": "display_data"
    },
    {
     "data": {
      "application/vnd.jupyter.widget-view+json": {
       "model_id": "ca5532ac561d40d89bc903dca85c45c7",
       "version_major": 2,
       "version_minor": 0
      },
      "text/plain": [
       "VBox(children=(Label(value='Waiting for wandb.init()...\\r'), FloatProgress(value=0.016666666666666666, max=1.0…"
      ]
     },
     "metadata": {},
     "output_type": "display_data"
    },
    {
     "data": {
      "text/html": [
       "Tracking run with wandb version 0.14.1"
      ],
      "text/plain": [
       "<IPython.core.display.HTML object>"
      ]
     },
     "metadata": {},
     "output_type": "display_data"
    },
    {
     "data": {
      "text/html": [
       "Run data is saved locally in <code>C:\\Users\\khabek\\Documents\\GitHub\\WB-CI-CD-for-Machine-Learning--GitOps-\\wandb\\run-20230406_100641-qmznbc6i</code>"
      ],
      "text/plain": [
       "<IPython.core.display.HTML object>"
      ]
     },
     "metadata": {},
     "output_type": "display_data"
    },
    {
     "data": {
      "text/html": [
       "Syncing run <strong><a href='https://wandb.ai/khubak/lineage-example/runs/qmznbc6i' target=\"_blank\">ensign-q-4</a></strong> to <a href='https://wandb.ai/khubak/lineage-example' target=\"_blank\">Weights & Biases</a> (<a href='https://wandb.me/run' target=\"_blank\">docs</a>)<br/>"
      ],
      "text/plain": [
       "<IPython.core.display.HTML object>"
      ]
     },
     "metadata": {},
     "output_type": "display_data"
    },
    {
     "data": {
      "text/html": [
       " View project at <a href='https://wandb.ai/khubak/lineage-example' target=\"_blank\">https://wandb.ai/khubak/lineage-example</a>"
      ],
      "text/plain": [
       "<IPython.core.display.HTML object>"
      ]
     },
     "metadata": {},
     "output_type": "display_data"
    },
    {
     "data": {
      "text/html": [
       " View run at <a href='https://wandb.ai/khubak/lineage-example/runs/qmznbc6i' target=\"_blank\">https://wandb.ai/khubak/lineage-example/runs/qmznbc6i</a>"
      ],
      "text/plain": [
       "<IPython.core.display.HTML object>"
      ]
     },
     "metadata": {},
     "output_type": "display_data"
    },
    {
     "data": {
      "text/html": [
       "Waiting for W&B process to finish... <strong style=\"color:green\">(success).</strong>"
      ],
      "text/plain": [
       "<IPython.core.display.HTML object>"
      ]
     },
     "metadata": {},
     "output_type": "display_data"
    },
    {
     "data": {
      "application/vnd.jupyter.widget-view+json": {
       "model_id": "f3c13881d9124aa08aa4db67a56a3170",
       "version_major": 2,
       "version_minor": 0
      },
      "text/plain": [
       "VBox(children=(Label(value='1.123 MB of 1.147 MB uploaded (1.122 MB deduped)\\r'), FloatProgress(value=0.978800…"
      ]
     },
     "metadata": {},
     "output_type": "display_data"
    },
    {
     "data": {
      "text/html": [
       " View run <strong style=\"color:#cdcd00\">ensign-q-4</strong> at: <a href='https://wandb.ai/khubak/lineage-example/runs/qmznbc6i' target=\"_blank\">https://wandb.ai/khubak/lineage-example/runs/qmznbc6i</a><br/>Synced 5 W&B file(s), 0 media file(s), 9 artifact file(s) and 0 other file(s)"
      ],
      "text/plain": [
       "<IPython.core.display.HTML object>"
      ]
     },
     "metadata": {},
     "output_type": "display_data"
    },
    {
     "data": {
      "text/html": [
       "Find logs at: <code>.\\wandb\\run-20230406_100641-qmznbc6i\\logs</code>"
      ],
      "text/plain": [
       "<IPython.core.display.HTML object>"
      ]
     },
     "metadata": {},
     "output_type": "display_data"
    },
    {
     "data": {
      "application/vnd.jupyter.widget-view+json": {
       "model_id": "681fc368fd244f3bb7a45b1138f12acc",
       "version_major": 2,
       "version_minor": 0
      },
      "text/plain": [
       "VBox(children=(Label(value='Waiting for wandb.init()...\\r'), FloatProgress(value=0.01693333333338766, max=1.0)…"
      ]
     },
     "metadata": {},
     "output_type": "display_data"
    },
    {
     "data": {
      "text/html": [
       "Tracking run with wandb version 0.14.1"
      ],
      "text/plain": [
       "<IPython.core.display.HTML object>"
      ]
     },
     "metadata": {},
     "output_type": "display_data"
    },
    {
     "data": {
      "text/html": [
       "Run data is saved locally in <code>C:\\Users\\khabek\\Documents\\GitHub\\WB-CI-CD-for-Machine-Learning--GitOps-\\wandb\\run-20230406_100730-bmv4lo5l</code>"
      ],
      "text/plain": [
       "<IPython.core.display.HTML object>"
      ]
     },
     "metadata": {},
     "output_type": "display_data"
    },
    {
     "data": {
      "text/html": [
       "Syncing run <strong><a href='https://wandb.ai/khubak/lineage-example/runs/bmv4lo5l' target=\"_blank\">empathic-think-tank-5</a></strong> to <a href='https://wandb.ai/khubak/lineage-example' target=\"_blank\">Weights & Biases</a> (<a href='https://wandb.me/run' target=\"_blank\">docs</a>)<br/>"
      ],
      "text/plain": [
       "<IPython.core.display.HTML object>"
      ]
     },
     "metadata": {},
     "output_type": "display_data"
    },
    {
     "data": {
      "text/html": [
       " View project at <a href='https://wandb.ai/khubak/lineage-example' target=\"_blank\">https://wandb.ai/khubak/lineage-example</a>"
      ],
      "text/plain": [
       "<IPython.core.display.HTML object>"
      ]
     },
     "metadata": {},
     "output_type": "display_data"
    },
    {
     "data": {
      "text/html": [
       " View run at <a href='https://wandb.ai/khubak/lineage-example/runs/bmv4lo5l' target=\"_blank\">https://wandb.ai/khubak/lineage-example/runs/bmv4lo5l</a>"
      ],
      "text/plain": [
       "<IPython.core.display.HTML object>"
      ]
     },
     "metadata": {},
     "output_type": "display_data"
    },
    {
     "data": {
      "text/html": [
       "Waiting for W&B process to finish... <strong style=\"color:green\">(success).</strong>"
      ],
      "text/plain": [
       "<IPython.core.display.HTML object>"
      ]
     },
     "metadata": {},
     "output_type": "display_data"
    },
    {
     "data": {
      "application/vnd.jupyter.widget-view+json": {
       "model_id": "888970e63e66461f849039de1d0b0ec4",
       "version_major": 2,
       "version_minor": 0
      },
      "text/plain": [
       "VBox(children=(Label(value='1.123 MB of 1.147 MB uploaded (1.122 MB deduped)\\r'), FloatProgress(value=0.978800…"
      ]
     },
     "metadata": {},
     "output_type": "display_data"
    },
    {
     "data": {
      "text/html": [
       " View run <strong style=\"color:#cdcd00\">empathic-think-tank-5</strong> at: <a href='https://wandb.ai/khubak/lineage-example/runs/bmv4lo5l' target=\"_blank\">https://wandb.ai/khubak/lineage-example/runs/bmv4lo5l</a><br/>Synced 5 W&B file(s), 0 media file(s), 9 artifact file(s) and 0 other file(s)"
      ],
      "text/plain": [
       "<IPython.core.display.HTML object>"
      ]
     },
     "metadata": {},
     "output_type": "display_data"
    },
    {
     "data": {
      "text/html": [
       "Find logs at: <code>.\\wandb\\run-20230406_100730-bmv4lo5l\\logs</code>"
      ],
      "text/plain": [
       "<IPython.core.display.HTML object>"
      ]
     },
     "metadata": {},
     "output_type": "display_data"
    },
    {
     "data": {
      "application/vnd.jupyter.widget-view+json": {
       "model_id": "ed8253ef7e454322800dc50b1228a331",
       "version_major": 2,
       "version_minor": 0
      },
      "text/plain": [
       "VBox(children=(Label(value='Waiting for wandb.init()...\\r'), FloatProgress(value=0.016666666666666666, max=1.0…"
      ]
     },
     "metadata": {},
     "output_type": "display_data"
    },
    {
     "data": {
      "text/html": [
       "Tracking run with wandb version 0.14.1"
      ],
      "text/plain": [
       "<IPython.core.display.HTML object>"
      ]
     },
     "metadata": {},
     "output_type": "display_data"
    },
    {
     "data": {
      "text/html": [
       "Run data is saved locally in <code>C:\\Users\\khabek\\Documents\\GitHub\\WB-CI-CD-for-Machine-Learning--GitOps-\\wandb\\run-20230406_100821-r19sagcq</code>"
      ],
      "text/plain": [
       "<IPython.core.display.HTML object>"
      ]
     },
     "metadata": {},
     "output_type": "display_data"
    },
    {
     "data": {
      "text/html": [
       "Syncing run <strong><a href='https://wandb.ai/khubak/lineage-example/runs/r19sagcq' target=\"_blank\">final-daedalus-6</a></strong> to <a href='https://wandb.ai/khubak/lineage-example' target=\"_blank\">Weights & Biases</a> (<a href='https://wandb.me/run' target=\"_blank\">docs</a>)<br/>"
      ],
      "text/plain": [
       "<IPython.core.display.HTML object>"
      ]
     },
     "metadata": {},
     "output_type": "display_data"
    },
    {
     "data": {
      "text/html": [
       " View project at <a href='https://wandb.ai/khubak/lineage-example' target=\"_blank\">https://wandb.ai/khubak/lineage-example</a>"
      ],
      "text/plain": [
       "<IPython.core.display.HTML object>"
      ]
     },
     "metadata": {},
     "output_type": "display_data"
    },
    {
     "data": {
      "text/html": [
       " View run at <a href='https://wandb.ai/khubak/lineage-example/runs/r19sagcq' target=\"_blank\">https://wandb.ai/khubak/lineage-example/runs/r19sagcq</a>"
      ],
      "text/plain": [
       "<IPython.core.display.HTML object>"
      ]
     },
     "metadata": {},
     "output_type": "display_data"
    },
    {
     "data": {
      "text/html": [
       "Waiting for W&B process to finish... <strong style=\"color:green\">(success).</strong>"
      ],
      "text/plain": [
       "<IPython.core.display.HTML object>"
      ]
     },
     "metadata": {},
     "output_type": "display_data"
    },
    {
     "data": {
      "application/vnd.jupyter.widget-view+json": {
       "model_id": "2c4c9163ca70473dbe204c34418ebc6b",
       "version_major": 2,
       "version_minor": 0
      },
      "text/plain": [
       "VBox(children=(Label(value='1.123 MB of 1.147 MB uploaded (1.122 MB deduped)\\r'), FloatProgress(value=0.978778…"
      ]
     },
     "metadata": {},
     "output_type": "display_data"
    },
    {
     "data": {
      "text/html": [
       " View run <strong style=\"color:#cdcd00\">final-daedalus-6</strong> at: <a href='https://wandb.ai/khubak/lineage-example/runs/r19sagcq' target=\"_blank\">https://wandb.ai/khubak/lineage-example/runs/r19sagcq</a><br/>Synced 5 W&B file(s), 0 media file(s), 9 artifact file(s) and 0 other file(s)"
      ],
      "text/plain": [
       "<IPython.core.display.HTML object>"
      ]
     },
     "metadata": {},
     "output_type": "display_data"
    },
    {
     "data": {
      "text/html": [
       "Find logs at: <code>.\\wandb\\run-20230406_100821-r19sagcq\\logs</code>"
      ],
      "text/plain": [
       "<IPython.core.display.HTML object>"
      ]
     },
     "metadata": {},
     "output_type": "display_data"
    },
    {
     "data": {
      "application/vnd.jupyter.widget-view+json": {
       "model_id": "78806cf5a91249dbb7b19e8b9e31cbde",
       "version_major": 2,
       "version_minor": 0
      },
      "text/plain": [
       "VBox(children=(Label(value='Waiting for wandb.init()...\\r'), FloatProgress(value=0.016666666666666666, max=1.0…"
      ]
     },
     "metadata": {},
     "output_type": "display_data"
    },
    {
     "data": {
      "text/html": [
       "Tracking run with wandb version 0.14.1"
      ],
      "text/plain": [
       "<IPython.core.display.HTML object>"
      ]
     },
     "metadata": {},
     "output_type": "display_data"
    },
    {
     "data": {
      "text/html": [
       "Run data is saved locally in <code>C:\\Users\\khabek\\Documents\\GitHub\\WB-CI-CD-for-Machine-Learning--GitOps-\\wandb\\run-20230406_100910-pnnslefd</code>"
      ],
      "text/plain": [
       "<IPython.core.display.HTML object>"
      ]
     },
     "metadata": {},
     "output_type": "display_data"
    },
    {
     "data": {
      "text/html": [
       "Syncing run <strong><a href='https://wandb.ai/khubak/lineage-example/runs/pnnslefd' target=\"_blank\">andorian-roddenberry-7</a></strong> to <a href='https://wandb.ai/khubak/lineage-example' target=\"_blank\">Weights & Biases</a> (<a href='https://wandb.me/run' target=\"_blank\">docs</a>)<br/>"
      ],
      "text/plain": [
       "<IPython.core.display.HTML object>"
      ]
     },
     "metadata": {},
     "output_type": "display_data"
    },
    {
     "data": {
      "text/html": [
       " View project at <a href='https://wandb.ai/khubak/lineage-example' target=\"_blank\">https://wandb.ai/khubak/lineage-example</a>"
      ],
      "text/plain": [
       "<IPython.core.display.HTML object>"
      ]
     },
     "metadata": {},
     "output_type": "display_data"
    },
    {
     "data": {
      "text/html": [
       " View run at <a href='https://wandb.ai/khubak/lineage-example/runs/pnnslefd' target=\"_blank\">https://wandb.ai/khubak/lineage-example/runs/pnnslefd</a>"
      ],
      "text/plain": [
       "<IPython.core.display.HTML object>"
      ]
     },
     "metadata": {},
     "output_type": "display_data"
    },
    {
     "data": {
      "text/html": [
       "Waiting for W&B process to finish... <strong style=\"color:green\">(success).</strong>"
      ],
      "text/plain": [
       "<IPython.core.display.HTML object>"
      ]
     },
     "metadata": {},
     "output_type": "display_data"
    },
    {
     "data": {
      "application/vnd.jupyter.widget-view+json": {
       "model_id": "32e5a0b1262b4696bed6eae2ee4a4641",
       "version_major": 2,
       "version_minor": 0
      },
      "text/plain": [
       "VBox(children=(Label(value='1.140 MB of 1.147 MB uploaded (1.122 MB deduped)\\r'), FloatProgress(value=0.993710…"
      ]
     },
     "metadata": {},
     "output_type": "display_data"
    },
    {
     "data": {
      "text/html": [
       " View run <strong style=\"color:#cdcd00\">andorian-roddenberry-7</strong> at: <a href='https://wandb.ai/khubak/lineage-example/runs/pnnslefd' target=\"_blank\">https://wandb.ai/khubak/lineage-example/runs/pnnslefd</a><br/>Synced 5 W&B file(s), 0 media file(s), 9 artifact file(s) and 0 other file(s)"
      ],
      "text/plain": [
       "<IPython.core.display.HTML object>"
      ]
     },
     "metadata": {},
     "output_type": "display_data"
    },
    {
     "data": {
      "text/html": [
       "Find logs at: <code>.\\wandb\\run-20230406_100910-pnnslefd\\logs</code>"
      ],
      "text/plain": [
       "<IPython.core.display.HTML object>"
      ]
     },
     "metadata": {},
     "output_type": "display_data"
    },
    {
     "data": {
      "application/vnd.jupyter.widget-view+json": {
       "model_id": "c9f0070d93dd44e0ba4ba1fa147ed08a",
       "version_major": 2,
       "version_minor": 0
      },
      "text/plain": [
       "VBox(children=(Label(value='Waiting for wandb.init()...\\r'), FloatProgress(value=0.016933333333145128, max=1.0…"
      ]
     },
     "metadata": {},
     "output_type": "display_data"
    },
    {
     "data": {
      "text/html": [
       "Tracking run with wandb version 0.14.1"
      ],
      "text/plain": [
       "<IPython.core.display.HTML object>"
      ]
     },
     "metadata": {},
     "output_type": "display_data"
    },
    {
     "data": {
      "text/html": [
       "Run data is saved locally in <code>C:\\Users\\khabek\\Documents\\GitHub\\WB-CI-CD-for-Machine-Learning--GitOps-\\wandb\\run-20230406_101006-giiik7w5</code>"
      ],
      "text/plain": [
       "<IPython.core.display.HTML object>"
      ]
     },
     "metadata": {},
     "output_type": "display_data"
    },
    {
     "data": {
      "text/html": [
       "Syncing run <strong><a href='https://wandb.ai/khubak/lineage-example/runs/giiik7w5' target=\"_blank\">cardassian-janeway-8</a></strong> to <a href='https://wandb.ai/khubak/lineage-example' target=\"_blank\">Weights & Biases</a> (<a href='https://wandb.me/run' target=\"_blank\">docs</a>)<br/>"
      ],
      "text/plain": [
       "<IPython.core.display.HTML object>"
      ]
     },
     "metadata": {},
     "output_type": "display_data"
    },
    {
     "data": {
      "text/html": [
       " View project at <a href='https://wandb.ai/khubak/lineage-example' target=\"_blank\">https://wandb.ai/khubak/lineage-example</a>"
      ],
      "text/plain": [
       "<IPython.core.display.HTML object>"
      ]
     },
     "metadata": {},
     "output_type": "display_data"
    },
    {
     "data": {
      "text/html": [
       " View run at <a href='https://wandb.ai/khubak/lineage-example/runs/giiik7w5' target=\"_blank\">https://wandb.ai/khubak/lineage-example/runs/giiik7w5</a>"
      ],
      "text/plain": [
       "<IPython.core.display.HTML object>"
      ]
     },
     "metadata": {},
     "output_type": "display_data"
    },
    {
     "data": {
      "text/html": [
       "Waiting for W&B process to finish... <strong style=\"color:green\">(success).</strong>"
      ],
      "text/plain": [
       "<IPython.core.display.HTML object>"
      ]
     },
     "metadata": {},
     "output_type": "display_data"
    },
    {
     "data": {
      "application/vnd.jupyter.widget-view+json": {
       "model_id": "3583f2ddfd7941baaff31751bd768f25",
       "version_major": 2,
       "version_minor": 0
      },
      "text/plain": [
       "VBox(children=(Label(value='0.375 MB of 0.399 MB uploaded (0.374 MB deduped)\\r'), FloatProgress(value=0.939100…"
      ]
     },
     "metadata": {},
     "output_type": "display_data"
    },
    {
     "data": {
      "text/html": [
       " View run <strong style=\"color:#cdcd00\">cardassian-janeway-8</strong> at: <a href='https://wandb.ai/khubak/lineage-example/runs/giiik7w5' target=\"_blank\">https://wandb.ai/khubak/lineage-example/runs/giiik7w5</a><br/>Synced 5 W&B file(s), 0 media file(s), 3 artifact file(s) and 0 other file(s)"
      ],
      "text/plain": [
       "<IPython.core.display.HTML object>"
      ]
     },
     "metadata": {},
     "output_type": "display_data"
    },
    {
     "data": {
      "text/html": [
       "Find logs at: <code>.\\wandb\\run-20230406_101006-giiik7w5\\logs</code>"
      ],
      "text/plain": [
       "<IPython.core.display.HTML object>"
      ]
     },
     "metadata": {},
     "output_type": "display_data"
    }
   ],
   "source": [
    "#@title ## Log Runs { run: \"auto\", display-mode: \"form\" }\n",
    "#@markdown This will create a Weights & Biases project for you and log runs to it.\n",
    "#@markdown Please choose a project name, or just leave the default one as is.  This can take 3-4 minutes to run.\n",
    "\n",
    "LOG_DUMMY_RUNS = True\n",
    "\n",
    "\n",
    "import requests\n",
    "from PIL import Image\n",
    "from io import BytesIO\n",
    "import wandb\n",
    "import pandas as pd\n",
    "from itertools import product\n",
    "import random\n",
    "import math\n",
    "\n",
    "import wandb\n",
    "import random\n",
    "import string\n",
    "\n",
    "ENTITY = wandb.apis.PublicApi().default_entity\n",
    "PROJECT = \"cicd-quickstart\" #@param {type: \"string\"}\n",
    "LINEAGE_PROJECT = \"lineage-example\"\n",
    "\n",
    "\n",
    "def get_image(url):\n",
    "    r = requests.get(url)\n",
    "    return Image.open(BytesIO(r.content))\n",
    "\n",
    "\n",
    "def log_dummy_data():\n",
    "    run_names = [\n",
    "        \"adventurous-aardvark-1\",\n",
    "        \"bountiful-badger-2\",\n",
    "        \"clairvoyant-chipmunk-3\",\n",
    "        \"dastardly-duck-4\",\n",
    "        \"eloquent-elephant-5\",\n",
    "        \"flippant-flamingo-6\",\n",
    "        \"giddy-giraffe-7\",\n",
    "        \"haughty-hippo-8\",\n",
    "        \"ignorant-iguana-9\",\n",
    "        \"jolly-jackal-10\",\n",
    "        \"kind-koala-11\",\n",
    "        \"laughing-lemur-12\",\n",
    "        \"manic-mandrill-13\",\n",
    "        \"neighbourly-narwhal-14\",\n",
    "        \"oblivious-octopus-15\",\n",
    "        \"philistine-platypus-16\",\n",
    "        \"quant-quail-17\",\n",
    "        \"rowdy-rhino-18\",\n",
    "        \"solid-snake-19\",\n",
    "        \"timid-tarantula-20\",\n",
    "        \"understanding-unicorn-21\",\n",
    "        \"voracious-vulture-22\",\n",
    "        \"wu-tang-23\",\n",
    "        \"xenic-xerneas-24\",\n",
    "        \"yielding-yveltal-25\",\n",
    "        \"zooming-zygarde-26\",\n",
    "    ]\n",
    "\n",
    "    opts = [\"adam\", \"sgd\"]\n",
    "    encoders = [\"resnet18\", \"resnet50\"]\n",
    "    learning_rates = [0.01]\n",
    "    for (i, run_name), (opt, encoder, lr) in zip(\n",
    "        enumerate(run_names), product(opts, encoders, learning_rates)\n",
    "    ):\n",
    "        config = {\n",
    "            \"optimizer\": opt,\n",
    "            \"encoder\": encoder,\n",
    "            \"learning_rate\": lr,\n",
    "            \"momentum\": 0.1 * random.random(),\n",
    "        }\n",
    "        displacement1 = random.random() * 2\n",
    "        displacement2 = random.random() * 4\n",
    "        with wandb.init(\n",
    "            entity=ENTITY, project=PROJECT, config=config, name=run_name\n",
    "        ) as run:\n",
    "            for step in range(1000):\n",
    "                wandb.log(\n",
    "                    {\n",
    "                        \"acc\": 0.1\n",
    "                        + 0.4\n",
    "                        * (\n",
    "                            math.log(1 + step + random.random())\n",
    "                            + random.random() * run.config.learning_rate\n",
    "                            + random.random()\n",
    "                            + displacement1\n",
    "                            + random.random() * run.config.momentum\n",
    "                        ),\n",
    "                        \"val_acc\": 0.1\n",
    "                        + 0.4\n",
    "                        * (\n",
    "                            math.log(1 + step + random.random())\n",
    "                            + random.random() * run.config.learning_rate\n",
    "                            - random.random()\n",
    "                            + displacement1\n",
    "                        ),\n",
    "                        \"loss\": 0.1\n",
    "                        + 0.08\n",
    "                        * (\n",
    "                            3.5\n",
    "                            - math.log(1 + step + random.random())\n",
    "                            + random.random() * run.config.momentum\n",
    "                            + random.random()\n",
    "                            + displacement2\n",
    "                        ),\n",
    "                        \"val_loss\": 0.1\n",
    "                        + 0.04\n",
    "                        * (\n",
    "                            4.5\n",
    "                            - math.log(1 + step + random.random())\n",
    "                            + random.random() * run.config.learning_rate\n",
    "                            - random.random()\n",
    "                            + displacement2\n",
    "                        ),\n",
    "                    }\n",
    "                )\n",
    "\n",
    "    with wandb.init(\n",
    "        entity=ENTITY, project=PROJECT, config=config, name=run_names[i + 1]\n",
    "    ) as run:\n",
    "        img = get_image(\n",
    "            \"https://www.akc.org/wp-content/uploads/2017/11/Shiba-Inu-standing-in-profile-outdoors.jpg\"\n",
    "        )\n",
    "        image = wandb.Image(img)\n",
    "        df = pd.DataFrame(\n",
    "            {\n",
    "                \"int\": [1, 2, 3, 4],\n",
    "                \"float\": [1.2, 2.3, 3.4, 4.5],\n",
    "                \"str\": [\"a\", \"b\", \"c\", \"d\"],\n",
    "                \"img\": [image] * 4,\n",
    "            }\n",
    "        )\n",
    "        run.log({\"img\": image, \"my-table\": df})\n",
    "\n",
    "\n",
    "class Step:\n",
    "    def __init__(self, j, r, u, o, at=None):\n",
    "        self.job_type = j\n",
    "        self.runs = r\n",
    "        self.uses_per_run = u\n",
    "        self.outputs_per_run = o\n",
    "        self.artifact_type = at if at is not None else \"model\"\n",
    "        self.artifacts = []\n",
    "\n",
    "\n",
    "def create_artifact(name: str, type: str, content: str):\n",
    "    art = wandb.Artifact(name, type)\n",
    "    with open(\"boom.txt\", \"w\") as f:\n",
    "        f.write(content)\n",
    "    art.add_file(\"boom.txt\", \"test-name\")\n",
    "\n",
    "    img = get_image(\n",
    "        \"https://www.akc.org/wp-content/uploads/2017/11/Shiba-Inu-standing-in-profile-outdoors.jpg\"\n",
    "    )\n",
    "    image = wandb.Image(img)\n",
    "    df = pd.DataFrame(\n",
    "        {\n",
    "            \"int\": [1, 2, 3, 4],\n",
    "            \"float\": [1.2, 2.3, 3.4, 4.5],\n",
    "            \"str\": [\"a\", \"b\", \"c\", \"d\"],\n",
    "            \"img\": [image] * 4,\n",
    "        }\n",
    "    )\n",
    "    art.add(wandb.Table(dataframe=df), \"dataframe\")\n",
    "    return art\n",
    "\n",
    "\n",
    "def log_dummy_lineage():\n",
    "    pipeline = [\n",
    "        Step(\"dataset-generator\", 1, 0, 3, \"dataset\"),\n",
    "        Step(\"trainer\", 4, (1, 2), 3),\n",
    "        Step(\"evaluator\", 2, 1, 3),\n",
    "        Step(\"ensemble\", 1, 1, 1),\n",
    "    ]\n",
    "    for (i, step) in enumerate(pipeline):\n",
    "        for _ in range(step.runs):\n",
    "            with wandb.init(project=LINEAGE_PROJECT, job_type=step.job_type) as run:\n",
    "                # use\n",
    "                uses = step.uses_per_run\n",
    "                if type(uses) == tuple:\n",
    "                    uses = random.choice(list(uses))\n",
    "\n",
    "                if i > 0:\n",
    "                    prev_step = pipeline[i - 1]\n",
    "                    input_artifacts = random.sample(prev_step.artifacts, uses)\n",
    "                    for a in input_artifacts:\n",
    "                        run.use_artifact(a)\n",
    "                # log output artifacts\n",
    "                for j in range(step.outputs_per_run):\n",
    "                    # name = ''.join(random.choices(string.ascii_lowercase + string.digits, k=6))\n",
    "                    name = f\"{step.artifact_type}-{j}\"\n",
    "                    content = \"\".join(\n",
    "                        random.choices(string.ascii_lowercase + string.digits, k=12)\n",
    "                    )\n",
    "                    art = create_artifact(name, step.artifact_type, content)\n",
    "                    run.log_artifact(art)\n",
    "                    art.wait()\n",
    "\n",
    "                    # save in pipeline\n",
    "                    step.artifacts.append(art)\n",
    "\n",
    "if LOG_DUMMY_RUNS:\n",
    "  log_dummy_data()\n",
    "  log_dummy_lineage()"
   ]
  },
  {
   "cell_type": "markdown",
   "metadata": {
    "id": "TFba1FS6TpTJ"
   },
   "source": [
    "\n",
    "# 👀 Important! Click On Link To Your Project And Look Around 👀\n",
    "\n",
    "Run the below cell to get a link to your project:"
   ]
  },
  {
   "cell_type": "code",
   "execution_count": 4,
   "metadata": {
    "id": "_0Y3lxxXTpTK"
   },
   "outputs": [
    {
     "data": {
      "text/markdown": [
       "## Your Project's url: https://wandb.ai/khubak/cicd-quickstart"
      ],
      "text/plain": [
       "<IPython.core.display.Markdown object>"
      ]
     },
     "execution_count": 4,
     "metadata": {},
     "output_type": "execute_result"
    }
   ],
   "source": [
    "from IPython.display import Markdown\n",
    "Markdown(f\"## Your Project's url: https://wandb.ai/{ENTITY}/{PROJECT}\")"
   ]
  },
  {
   "cell_type": "code",
   "execution_count": null,
   "metadata": {
    "collapsed": false,
    "jupyter": {
     "outputs_hidden": false
    }
   },
   "outputs": [],
   "source": []
  }
 ],
 "metadata": {
  "colab": {
   "provenance": []
  },
  "kernelspec": {
   "display_name": "Python 3 (ipykernel)",
   "language": "python",
   "name": "python3"
  },
  "language_info": {
   "codemirror_mode": {
    "name": "ipython",
    "version": 3
   },
   "file_extension": ".py",
   "mimetype": "text/x-python",
   "name": "python",
   "nbconvert_exporter": "python",
   "pygments_lexer": "ipython3",
   "version": "3.9.16"
  }
 },
 "nbformat": 4,
 "nbformat_minor": 4
}
